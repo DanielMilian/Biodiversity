{
 "cells": [
  {
   "cell_type": "code",
   "execution_count": 5,
   "id": "c7e1aff0-a70b-47cb-8819-833858d3654c",
   "metadata": {},
   "outputs": [],
   "source": [
    "# Adding libraries\n",
    "import pandas as pd\n",
    "import numpy as np\n",
    "import matplotlib.pyplot as plt\n",
    "import seaborn as sns\n",
    "import scipy.stats as stats\n",
    "\n"
   ]
  },
  {
   "cell_type": "code",
   "execution_count": 9,
   "id": "0887f474-859e-43f7-b506-181773a7f05c",
   "metadata": {},
   "outputs": [
    {
     "name": "stdout",
     "output_type": "stream",
     "text": [
      "  category                scientific_name  \\\n",
      "0   Mammal  Clethrionomys gapperi gapperi   \n",
      "1   Mammal                      Bos bison   \n",
      "2   Mammal                     Bos taurus   \n",
      "3   Mammal                     Ovis aries   \n",
      "4   Mammal                 Cervus elaphus   \n",
      "\n",
      "                                        common_names conservation_status  \n",
      "0                           Gapper's Red-Backed Vole                 NaN  \n",
      "1                              American Bison, Bison                 NaN  \n",
      "2  Aurochs, Aurochs, Domestic Cattle (Feral), Dom...                 NaN  \n",
      "3  Domestic Sheep, Mouflon, Red Sheep, Sheep (Feral)                 NaN  \n",
      "4                                      Wapiti Or Elk                 NaN  \n",
      "---------------------------------\n",
      "            scientific_name                            park_name  observations\n",
      "0        Vicia benghalensis  Great Smoky Mountains National Park            68\n",
      "1            Neovison vison  Great Smoky Mountains National Park            77\n",
      "2         Prunus subcordata               Yosemite National Park           138\n",
      "3      Abutilon theophrasti                  Bryce National Park            84\n",
      "4  Githopsis specularioides  Great Smoky Mountains National Park            85\n"
     ]
    }
   ],
   "source": [
    "# Adding data\n",
    "\n",
    "species = pd.read_csv(\"species_info.csv\", encoding='utf-8')\n",
    "observations = pd.read_csv(\"observations.csv\", encoding='utf-8')\n",
    "\n",
    "print(species.head())\n",
    "print(\"---------------------------------\")\n",
    "print(observations.head())\n"
   ]
  },
  {
   "cell_type": "markdown",
   "id": "1e9a60ce-c700-4314-886a-bdd4edf34ac1",
   "metadata": {},
   "source": [
    "#Observations\n",
    "\n",
    "##SPECIES\n",
    "Category, Scientific name, Common name, Conservation Status\n",
    "\n",
    "## Observations\n",
    "Scientific_name, park name, observations\n",
    "\n",
    "Seems that i can use scientific name as id.\n",
    "there are several conservations_status\n"
   ]
  },
  {
   "cell_type": "code",
   "execution_count": 12,
   "id": "7c405006-da74-415d-ad24-a9b823b19fb3",
   "metadata": {},
   "outputs": [
    {
     "name": "stdout",
     "output_type": "stream",
     "text": [
      "Index(['category', 'scientific_name', 'common_names', 'conservation_status'], dtype='object')\n",
      "Index(['scientific_name', 'park_name', 'observations'], dtype='object')\n"
     ]
    }
   ],
   "source": [
    "print(species.columns)\n",
    "print(observations.columns)\n"
   ]
  },
  {
   "cell_type": "code",
   "execution_count": 13,
   "id": "a2756de6-7812-40c8-a226-5312df068c29",
   "metadata": {},
   "outputs": [
    {
     "name": "stdout",
     "output_type": "stream",
     "text": [
      "  category                scientific_name              common_names  \\\n",
      "0   Mammal  Clethrionomys gapperi gapperi  Gapper's Red-Backed Vole   \n",
      "1   Mammal  Clethrionomys gapperi gapperi  Gapper's Red-Backed Vole   \n",
      "2   Mammal  Clethrionomys gapperi gapperi  Gapper's Red-Backed Vole   \n",
      "3   Mammal  Clethrionomys gapperi gapperi  Gapper's Red-Backed Vole   \n",
      "4   Mammal                      Bos bison     American Bison, Bison   \n",
      "\n",
      "  conservation_status                            park_name  observations  \n",
      "0                 NaN                  Bryce National Park           130  \n",
      "1                 NaN            Yellowstone National Park           270  \n",
      "2                 NaN  Great Smoky Mountains National Park            98  \n",
      "3                 NaN               Yosemite National Park           117  \n",
      "4                 NaN               Yosemite National Park           128  \n"
     ]
    }
   ],
   "source": [
    "merged = pd.merge(species, observations, on=\"scientific_name\")\n",
    "print(merged.head())\n"
   ]
  },
  {
   "cell_type": "code",
   "execution_count": 14,
   "id": "a49eea2c-6a59-4c78-a7f3-76ad29230bda",
   "metadata": {},
   "outputs": [
    {
     "name": "stdout",
     "output_type": "stream",
     "text": [
      "conservation_status\n",
      "NaN                   24752\n",
      "Species of Concern      732\n",
      "Endangered               80\n",
      "Threatened               44\n",
      "In Recovery              24\n",
      "Name: count, dtype: int64\n"
     ]
    }
   ],
   "source": [
    "print(merged['conservation_status'].value_counts(dropna=False))"
   ]
  },
  {
   "cell_type": "code",
   "execution_count": 15,
   "id": "63d8667d-5764-490f-af93-30d8dd9b60a8",
   "metadata": {},
   "outputs": [
    {
     "name": "stdout",
     "output_type": "stream",
     "text": [
      "<bound method DataFrame.info of              category                scientific_name  \\\n",
      "0              Mammal  Clethrionomys gapperi gapperi   \n",
      "1              Mammal  Clethrionomys gapperi gapperi   \n",
      "2              Mammal  Clethrionomys gapperi gapperi   \n",
      "3              Mammal  Clethrionomys gapperi gapperi   \n",
      "4              Mammal                      Bos bison   \n",
      "...               ...                            ...   \n",
      "25627  Vascular Plant              Vitis californica   \n",
      "25628  Vascular Plant            Tribulus terrestris   \n",
      "25629  Vascular Plant            Tribulus terrestris   \n",
      "25630  Vascular Plant            Tribulus terrestris   \n",
      "25631  Vascular Plant            Tribulus terrestris   \n",
      "\n",
      "                                            common_names conservation_status  \\\n",
      "0                               Gapper's Red-Backed Vole                 NaN   \n",
      "1                               Gapper's Red-Backed Vole                 NaN   \n",
      "2                               Gapper's Red-Backed Vole                 NaN   \n",
      "3                               Gapper's Red-Backed Vole                 NaN   \n",
      "4                                  American Bison, Bison                 NaN   \n",
      "...                                                  ...                 ...   \n",
      "25627            California Grape, California Wild Grape                 NaN   \n",
      "25628  Bullhead, Caltrop, Goathead, Mexican Sandbur, ...                 NaN   \n",
      "25629  Bullhead, Caltrop, Goathead, Mexican Sandbur, ...                 NaN   \n",
      "25630  Bullhead, Caltrop, Goathead, Mexican Sandbur, ...                 NaN   \n",
      "25631  Bullhead, Caltrop, Goathead, Mexican Sandbur, ...                 NaN   \n",
      "\n",
      "                                 park_name  observations  \n",
      "0                      Bryce National Park           130  \n",
      "1                Yellowstone National Park           270  \n",
      "2      Great Smoky Mountains National Park            98  \n",
      "3                   Yosemite National Park           117  \n",
      "4                   Yosemite National Park           128  \n",
      "...                                    ...           ...  \n",
      "25627            Yellowstone National Park           237  \n",
      "25628  Great Smoky Mountains National Park            50  \n",
      "25629            Yellowstone National Park           239  \n",
      "25630                  Bryce National Park           111  \n",
      "25631               Yosemite National Park           156  \n",
      "\n",
      "[25632 rows x 6 columns]>\n"
     ]
    }
   ],
   "source": [
    "print(merged.info)"
   ]
  },
  {
   "cell_type": "code",
   "execution_count": null,
   "id": "71cc33a9-f2bd-43cd-941b-67413e40c202",
   "metadata": {},
   "outputs": [],
   "source": []
  },
  {
   "cell_type": "code",
   "execution_count": null,
   "id": "cb15632f-ea8d-47cc-8a4a-174773a1f046",
   "metadata": {},
   "outputs": [],
   "source": []
  },
  {
   "cell_type": "code",
   "execution_count": null,
   "id": "d6a45f98-bf3e-493f-9a6e-e06cbbcf2782",
   "metadata": {},
   "outputs": [],
   "source": []
  },
  {
   "cell_type": "code",
   "execution_count": null,
   "id": "8cdcd751-f22e-48ca-bea0-8447577cd6b3",
   "metadata": {},
   "outputs": [],
   "source": []
  },
  {
   "cell_type": "code",
   "execution_count": null,
   "id": "4631d301-10e6-4b7b-8500-d4e91a184003",
   "metadata": {},
   "outputs": [],
   "source": []
  },
  {
   "cell_type": "code",
   "execution_count": null,
   "id": "e5ceb19c-dccc-4f64-9a8c-72c4f0e6e61a",
   "metadata": {},
   "outputs": [],
   "source": []
  },
  {
   "cell_type": "code",
   "execution_count": null,
   "id": "1ef3f70d-e0a7-4364-9f87-405bdef6503e",
   "metadata": {},
   "outputs": [],
   "source": []
  },
  {
   "cell_type": "code",
   "execution_count": null,
   "id": "d08df7d3-7462-437c-bfcb-3bfd7f8f498e",
   "metadata": {},
   "outputs": [],
   "source": []
  },
  {
   "cell_type": "code",
   "execution_count": null,
   "id": "052a2bc9-c252-4152-937c-81991e772dfc",
   "metadata": {},
   "outputs": [],
   "source": []
  },
  {
   "cell_type": "code",
   "execution_count": null,
   "id": "e3da7546-80d4-4f77-966d-bd21aa7fcee1",
   "metadata": {},
   "outputs": [],
   "source": []
  }
 ],
 "metadata": {
  "kernelspec": {
   "display_name": "Python 3 (ipykernel)",
   "language": "python",
   "name": "python3"
  },
  "language_info": {
   "codemirror_mode": {
    "name": "ipython",
    "version": 3
   },
   "file_extension": ".py",
   "mimetype": "text/x-python",
   "name": "python",
   "nbconvert_exporter": "python",
   "pygments_lexer": "ipython3",
   "version": "3.12.4"
  }
 },
 "nbformat": 4,
 "nbformat_minor": 5
}
